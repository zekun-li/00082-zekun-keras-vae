{
 "cells": [
  {
   "cell_type": "code",
   "execution_count": 1,
   "metadata": {
    "scrolled": true
   },
   "outputs": [
    {
     "name": "stdout",
     "output_type": "stream",
     "text": [
      "> Preloading all the models for efficiency\n",
      "> Loading pose model in model3D_aug_-00_01.mat\n",
      "> Loading pose model in model3D_aug_-00_02.mat\n",
      "> Loading pose model in model3D_aug_-00_03.mat\n",
      "> Loading pose model in model3D_aug_-00_04.mat\n",
      "> Loading pose model in model3D_aug_-00_05.mat\n",
      "> Loading pose model in model3D_aug_-00_06.mat\n",
      "> Loading pose model in model3D_aug_-00_07.mat\n",
      "> Loading pose model in model3D_aug_-00_08.mat\n",
      "> Loading pose model in model3D_aug_-00_09.mat\n",
      "> Loading pose model in model3D_aug_-00_10.mat\n",
      "> Loading pose model in model3D_aug_-40_01.mat\n",
      "> Loading pose model in model3D_aug_-40_02.mat\n",
      "> Loading pose model in model3D_aug_-40_03.mat\n",
      "> Loading pose model in model3D_aug_-40_04.mat\n",
      "> Loading pose model in model3D_aug_-40_05.mat\n",
      "> Loading pose model in model3D_aug_-40_06.mat\n",
      "> Loading pose model in model3D_aug_-40_07.mat\n",
      "> Loading pose model in model3D_aug_-40_08.mat\n",
      "> Loading pose model in model3D_aug_-40_09.mat\n",
      "> Loading pose model in model3D_aug_-40_10.mat\n",
      "> Loading pose model in model3D_aug_-75_01.mat\n",
      "> Loading pose model in model3D_aug_-75_02.mat\n",
      "> Loading pose model in model3D_aug_-75_03.mat\n",
      "> Loading pose model in model3D_aug_-75_04.mat\n",
      "> Loading pose model in model3D_aug_-75_05.mat\n",
      "> Loading pose model in model3D_aug_-75_06.mat\n",
      "> Loading pose model in model3D_aug_-75_07.mat\n",
      "> Loading pose model in model3D_aug_-75_08.mat\n",
      "> Loading pose model in model3D_aug_-75_09.mat\n",
      "> Loading pose model in model3D_aug_-75_10.mat\n"
     ]
    },
    {
     "name": "stderr",
     "output_type": "stream",
     "text": [
      "Using TensorFlow backend.\n"
     ]
    },
    {
     "name": "stdout",
     "output_type": "stream",
     "text": [
      "> [FaceAugDataLayer] Starting pre-fetching processes id: 0\n",
      "> [FaceAugDataLayer] BatchLoader_valid0 initialized with 52 images\n",
      "> [FaceAugDataLayer] Starting pre-fetching processes id: 1\n",
      "> [FaceAugDataLayer] BatchLoader_valid1 initialized with 52 images\n",
      "> [FaceAugDataLayer] Process started pre-fetching for Validation 0 : nimgs 52\n",
      "> [FaceAugDataLayer] Starting pre-fetching processes id: 2\n",
      "> [FaceAugDataLayer] BatchLoader_valid2 initialized with 52 images\n",
      "> [FaceAugDataLayer] Process started pre-fetching for Validation 1 : nimgs 52\n",
      "> [FaceAugDataLayer] Starting pre-fetching processes id: 3\n",
      "> [FaceAugDataLayer] BatchLoader_valid3 initialized with 52 images\n",
      "> [FaceAugDataLayer] Process started pre-fetching for Validation 2 : nimgs 52\n"
     ]
    },
    {
     "name": "stderr",
     "output_type": "stream",
     "text": [
      "/nfs/isicvlnas01/users/iacopo/codes/Aug_Layer_v2/aug_tracker.py:36: FutureWarning: `rcond` parameter will change to the default of machine precision times ``max(M, N)`` where M and N are the input matrix dimensions.\n",
      "To use the future default and silence this warning we advise to pass `rcond=None`, to keep using the old, explicitly pass `rcond=-1`.\n",
      "  succ, aug_im = align2d.align_main(img, landmarks[0], frontal, flipON)\n"
     ]
    },
    {
     "name": "stdout",
     "output_type": "stream",
     "text": [
      "> [FaceAugDataLayer] Starting pre-fetching processes id: 4\n"
     ]
    },
    {
     "name": "stderr",
     "output_type": "stream",
     "text": [
      "/nfs/isicvlnas01/users/iacopo/codes/Aug_Layer_v2/aug_tracker.py:36: FutureWarning: `rcond` parameter will change to the default of machine precision times ``max(M, N)`` where M and N are the input matrix dimensions.\n",
      "To use the future default and silence this warning we advise to pass `rcond=None`, to keep using the old, explicitly pass `rcond=-1`.\n",
      "  succ, aug_im = align2d.align_main(img, landmarks[0], frontal, flipON)\n",
      "/nfs/isicvlnas01/users/iacopo/codes/Aug_Layer_v2/aug_tracker.py:36: FutureWarning: `rcond` parameter will change to the default of machine precision times ``max(M, N)`` where M and N are the input matrix dimensions.\n",
      "To use the future default and silence this warning we advise to pass `rcond=None`, to keep using the old, explicitly pass `rcond=-1`.\n",
      "  succ, aug_im = align2d.align_main(img, landmarks[0], frontal, flipON)\n"
     ]
    },
    {
     "name": "stdout",
     "output_type": "stream",
     "text": [
      "> [FaceAugDataLayer] BatchLoader_valid4 initialized with 52 images\n",
      "> [FaceAugDataLayer] Process started pre-fetching for Validation 3 : nimgs 52\n",
      "> [FaceAugDataLayer] Starting pre-fetching processes id: 5\n",
      "> [FaceAugDataLayer] BatchLoader_valid5 initialized with 52 images\n",
      "> [FaceAugDataLayer] Process started pre-fetching for Validation 4 : nimgs 52\n",
      "> [FaceAugDataLayer] Starting pre-fetching processes id: 6\n",
      "> [FaceAugDataLayer] BatchLoader_valid6 initialized with 52 images\n",
      "> [FaceAugDataLayer] Process started pre-fetching for Validation 5 : nimgs 52\n",
      "> [FaceAugDataLayer] Starting pre-fetching processes id: 7\n",
      "> [FaceAugDataLayer] BatchLoader_valid7 initialized with 51 images\n",
      "> [FaceAugDataLayer] Process started pre-fetching for Validation 6 : nimgs 52\n",
      "FaceAugDataGen_valid initialized for split: validation, with bs: 32, im_shape: (224, 224).\n",
      "> [FaceAugDataLayer] Process started pre-fetching for Validation 7 : nimgs 51\n"
     ]
    },
    {
     "name": "stderr",
     "output_type": "stream",
     "text": [
      "/nfs/isicvlnas01/users/iacopo/codes/Aug_Layer_v2/aug_tracker.py:36: FutureWarning: `rcond` parameter will change to the default of machine precision times ``max(M, N)`` where M and N are the input matrix dimensions.\n",
      "To use the future default and silence this warning we advise to pass `rcond=None`, to keep using the old, explicitly pass `rcond=-1`.\n",
      "  succ, aug_im = align2d.align_main(img, landmarks[0], frontal, flipON)\n",
      "/nfs/isicvlnas01/users/iacopo/codes/Aug_Layer_v2/aug_tracker.py:36: FutureWarning: `rcond` parameter will change to the default of machine precision times ``max(M, N)`` where M and N are the input matrix dimensions.\n",
      "To use the future default and silence this warning we advise to pass `rcond=None`, to keep using the old, explicitly pass `rcond=-1`.\n",
      "  succ, aug_im = align2d.align_main(img, landmarks[0], frontal, flipON)\n",
      "/nfs/isicvlnas01/users/iacopo/codes/Aug_Layer_v2/aug_tracker.py:36: FutureWarning: `rcond` parameter will change to the default of machine precision times ``max(M, N)`` where M and N are the input matrix dimensions.\n",
      "To use the future default and silence this warning we advise to pass `rcond=None`, to keep using the old, explicitly pass `rcond=-1`.\n",
      "  succ, aug_im = align2d.align_main(img, landmarks[0], frontal, flipON)\n",
      "/nfs/isicvlnas01/users/iacopo/codes/Aug_Layer_v2/aug_tracker.py:36: FutureWarning: `rcond` parameter will change to the default of machine precision times ``max(M, N)`` where M and N are the input matrix dimensions.\n",
      "To use the future default and silence this warning we advise to pass `rcond=None`, to keep using the old, explicitly pass `rcond=-1`.\n",
      "  succ, aug_im = align2d.align_main(img, landmarks[0], frontal, flipON)\n",
      "/nfs/isicvlnas01/users/iacopo/codes/Aug_Layer_v2/aug_tracker.py:36: FutureWarning: `rcond` parameter will change to the default of machine precision times ``max(M, N)`` where M and N are the input matrix dimensions.\n",
      "To use the future default and silence this warning we advise to pass `rcond=None`, to keep using the old, explicitly pass `rcond=-1`.\n",
      "  succ, aug_im = align2d.align_main(img, landmarks[0], frontal, flipON)\n"
     ]
    },
    {
     "name": "stdout",
     "output_type": "stream",
     "text": [
      "(32, 3, 224, 224)\n",
      "(32, 3, 224, 224)\n",
      "(32, 1)\n"
     ]
    }
   ],
   "source": [
    "import temp_train_fixval\n"
   ]
  },
  {
   "cell_type": "code",
   "execution_count": 2,
   "metadata": {},
   "outputs": [
    {
     "data": {
      "text/plain": [
       "(32, 3, 224, 224)"
      ]
     },
     "execution_count": 2,
     "metadata": {},
     "output_type": "execute_result"
    }
   ],
   "source": [
    "temp_train_fixval.valid_X.shape\n"
   ]
  },
  {
   "cell_type": "code",
   "execution_count": 3,
   "metadata": {},
   "outputs": [],
   "source": [
    "import numpy as np\n",
    "np.save('valid_x_aug2d.npy',temp_train_fixval.valid_X)"
   ]
  },
  {
   "cell_type": "code",
   "execution_count": 4,
   "metadata": {},
   "outputs": [],
   "source": [
    "import cv2\n",
    "i=0\n",
    "valid_X = temp_train_fixval.valid_X * 255. / 2. + 128\n",
    "valid_X.astype(np.uint8)\n",
    "for x in valid_X:\n",
    "    cv2.imwrite('aug2d_'+str(i)+'.jpg',x.transpose(1,2,0))\n",
    "    i = i+1"
   ]
  },
  {
   "cell_type": "code",
   "execution_count": null,
   "metadata": {},
   "outputs": [],
   "source": []
  }
 ],
 "metadata": {
  "anaconda-cloud": {},
  "kernelspec": {
   "display_name": "Python 2",
   "language": "python",
   "name": "python2"
  },
  "language_info": {
   "codemirror_mode": {
    "name": "ipython",
    "version": 2
   },
   "file_extension": ".py",
   "mimetype": "text/x-python",
   "name": "python",
   "nbconvert_exporter": "python",
   "pygments_lexer": "ipython2",
   "version": "2.7.12"
  }
 },
 "nbformat": 4,
 "nbformat_minor": 2
}
